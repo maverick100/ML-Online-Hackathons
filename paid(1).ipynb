{
 "cells": [
  {
   "cell_type": "code",
   "execution_count": 0,
   "metadata": {
    "colab": {},
    "colab_type": "code",
    "id": "TGcW0UHtX4ff"
   },
   "outputs": [],
   "source": [
    "import os\n",
    "def install_req():\n",
    "  !apt-get install -qq curl g++ make\n",
    "  !curl -L http://download.osgeo.org/libspatialindex/spatialindex-src-1.8.5.tar.gz | tar xz\n",
    "  os.chdir('spatialindex-src-1.8.5')\n",
    "  !./configure\n",
    "  !make\n",
    "  !make install\n",
    "  \n",
    "  \n",
    "  !pip install geopandas shapely descartes rtree  mapclassify\n",
    "  os.chdir('..')"
   ]
  },
  {
   "cell_type": "code",
   "execution_count": 0,
   "metadata": {
    "colab": {},
    "colab_type": "code",
    "id": "cetjgkVsX8Nb"
   },
   "outputs": [],
   "source": [
    "#!pip uninstall geopandas rtree\n",
    "install_req()\n",
    "!ldconfig"
   ]
  },
  {
   "cell_type": "code",
   "execution_count": 3,
   "metadata": {
    "colab": {
     "base_uri": "https://localhost:8080/",
     "height": 86
    },
    "colab_type": "code",
    "id": "umo20Otm3dG6",
    "outputId": "b02adc5e-388e-4fea-d0ff-4b9519f3c052"
   },
   "outputs": [
    {
     "name": "stdout",
     "output_type": "stream",
     "text": [
      "Archive:  /content/AISData.csv.zip\n",
      "  inflating: AISData.csv             \n",
      "   creating: __MACOSX/\n",
      "  inflating: __MACOSX/._AISData.csv  \n"
     ]
    }
   ],
   "source": [
    "! unzip /content/AISData.csv.zip"
   ]
  },
  {
   "cell_type": "code",
   "execution_count": 0,
   "metadata": {
    "colab": {},
    "colab_type": "code",
    "id": "qSTMUWPm6IWt"
   },
   "outputs": [],
   "source": [
    "\n",
    "! unzip /content/Nima_Ports.zip"
   ]
  },
  {
   "cell_type": "code",
   "execution_count": 0,
   "metadata": {
    "colab": {},
    "colab_type": "code",
    "id": "cgJcPfuP7FKw"
   },
   "outputs": [],
   "source": [
    "import pandas as pd\n",
    "import geopandas as gdp\n",
    "from shapely.geometry import Point,polygon\n",
    "import matplotlib.pyplot as plt\n",
    "import mapclassify\n"
   ]
  },
  {
   "cell_type": "code",
   "execution_count": 6,
   "metadata": {
    "colab": {
     "base_uri": "https://localhost:8080/",
     "height": 143
    },
    "colab_type": "code",
    "id": "PJd2-EUe7OE5",
    "outputId": "fbd290b1-939c-48a8-f84a-0474b7aefca2"
   },
   "outputs": [
    {
     "data": {
      "text/html": [
       "<div>\n",
       "<style scoped>\n",
       "    .dataframe tbody tr th:only-of-type {\n",
       "        vertical-align: middle;\n",
       "    }\n",
       "\n",
       "    .dataframe tbody tr th {\n",
       "        vertical-align: top;\n",
       "    }\n",
       "\n",
       "    .dataframe thead th {\n",
       "        text-align: right;\n",
       "    }\n",
       "</style>\n",
       "<table border=\"1\" class=\"dataframe\">\n",
       "  <thead>\n",
       "    <tr style=\"text-align: right;\">\n",
       "      <th></th>\n",
       "      <th>Unnamed: 0</th>\n",
       "      <th>event_time</th>\n",
       "      <th>location.coordinates.0</th>\n",
       "      <th>location.coordinates.1</th>\n",
       "      <th>position_accuracy</th>\n",
       "      <th>mmsi</th>\n",
       "      <th>sog</th>\n",
       "      <th>cog</th>\n",
       "    </tr>\n",
       "  </thead>\n",
       "  <tbody>\n",
       "    <tr>\n",
       "      <th>0</th>\n",
       "      <td>0</td>\n",
       "      <td>2019-04-11T09:47:30.153Z</td>\n",
       "      <td>-63.556082</td>\n",
       "      <td>44.624835</td>\n",
       "      <td>0.0</td>\n",
       "      <td>316013808</td>\n",
       "      <td>3.0</td>\n",
       "      <td>319.500000</td>\n",
       "    </tr>\n",
       "    <tr>\n",
       "      <th>1</th>\n",
       "      <td>1</td>\n",
       "      <td>2019-04-11T09:47:27.273Z</td>\n",
       "      <td>-63.556053</td>\n",
       "      <td>44.624817</td>\n",
       "      <td>0.0</td>\n",
       "      <td>316013808</td>\n",
       "      <td>3.0</td>\n",
       "      <td>320.700012</td>\n",
       "    </tr>\n",
       "    <tr>\n",
       "      <th>2</th>\n",
       "      <td>2</td>\n",
       "      <td>2019-04-11T09:47:34.340Z</td>\n",
       "      <td>-63.556138</td>\n",
       "      <td>44.624868</td>\n",
       "      <td>0.0</td>\n",
       "      <td>316013808</td>\n",
       "      <td>2.9</td>\n",
       "      <td>319.500000</td>\n",
       "    </tr>\n",
       "  </tbody>\n",
       "</table>\n",
       "</div>"
      ],
      "text/plain": [
       "   Unnamed: 0                event_time  ...  sog         cog\n",
       "0           0  2019-04-11T09:47:30.153Z  ...  3.0  319.500000\n",
       "1           1  2019-04-11T09:47:27.273Z  ...  3.0  320.700012\n",
       "2           2  2019-04-11T09:47:34.340Z  ...  2.9  319.500000\n",
       "\n",
       "[3 rows x 8 columns]"
      ]
     },
     "execution_count": 6,
     "metadata": {
      "tags": []
     },
     "output_type": "execute_result"
    }
   ],
   "source": [
    "df=pd.read_csv('AISData.csv')\n",
    "df.head(3)"
   ]
  },
  {
   "cell_type": "code",
   "execution_count": 7,
   "metadata": {
    "colab": {
     "base_uri": "https://localhost:8080/",
     "height": 206
    },
    "colab_type": "code",
    "id": "BHKcgbpY7Rrm",
    "outputId": "de912906-0245-42c3-b3e8-397bfef972d8"
   },
   "outputs": [
    {
     "data": {
      "text/html": [
       "<div>\n",
       "<style scoped>\n",
       "    .dataframe tbody tr th:only-of-type {\n",
       "        vertical-align: middle;\n",
       "    }\n",
       "\n",
       "    .dataframe tbody tr th {\n",
       "        vertical-align: top;\n",
       "    }\n",
       "\n",
       "    .dataframe thead th {\n",
       "        text-align: right;\n",
       "    }\n",
       "</style>\n",
       "<table border=\"1\" class=\"dataframe\">\n",
       "  <thead>\n",
       "    <tr style=\"text-align: right;\">\n",
       "      <th></th>\n",
       "      <th>field_1</th>\n",
       "      <th>port_name</th>\n",
       "      <th>size</th>\n",
       "      <th>geometry</th>\n",
       "    </tr>\n",
       "  </thead>\n",
       "  <tbody>\n",
       "    <tr>\n",
       "      <th>0</th>\n",
       "      <td>0</td>\n",
       "      <td>pointpolygon</td>\n",
       "      <td>0.0000</td>\n",
       "      <td>POLYGON ((-63.59160304069519 44.6649292254607,...</td>\n",
       "    </tr>\n",
       "    <tr>\n",
       "      <th>1</th>\n",
       "      <td>1</td>\n",
       "      <td>port1</td>\n",
       "      <td>0.0018</td>\n",
       "      <td>POLYGON ((-63.569431 44.649993, -63.5694396674...</td>\n",
       "    </tr>\n",
       "    <tr>\n",
       "      <th>2</th>\n",
       "      <td>2</td>\n",
       "      <td>port2</td>\n",
       "      <td>0.0018</td>\n",
       "      <td>POLYGON ((-63.60949000000001 44.675853, -63.60...</td>\n",
       "    </tr>\n",
       "    <tr>\n",
       "      <th>3</th>\n",
       "      <td>3</td>\n",
       "      <td>ind</td>\n",
       "      <td>0.0000</td>\n",
       "      <td>POLYGON ((-63.54742169380188 44.64697911403847...</td>\n",
       "    </tr>\n",
       "    <tr>\n",
       "      <th>4</th>\n",
       "      <td>4</td>\n",
       "      <td>port5</td>\n",
       "      <td>0.0018</td>\n",
       "      <td>POLYGON ((-63.568048 44.663875, -63.5680566674...</td>\n",
       "    </tr>\n",
       "  </tbody>\n",
       "</table>\n",
       "</div>"
      ],
      "text/plain": [
       "   field_1  ...                                           geometry\n",
       "0        0  ...  POLYGON ((-63.59160304069519 44.6649292254607,...\n",
       "1        1  ...  POLYGON ((-63.569431 44.649993, -63.5694396674...\n",
       "2        2  ...  POLYGON ((-63.60949000000001 44.675853, -63.60...\n",
       "3        3  ...  POLYGON ((-63.54742169380188 44.64697911403847...\n",
       "4        4  ...  POLYGON ((-63.568048 44.663875, -63.5680566674...\n",
       "\n",
       "[5 rows x 4 columns]"
      ]
     },
     "execution_count": 7,
     "metadata": {
      "tags": []
     },
     "output_type": "execute_result"
    }
   ],
   "source": [
    "df2 = gdp.read_file('assignment3shapefile.shp')\n",
    "df2.head()"
   ]
  },
  {
   "cell_type": "code",
   "execution_count": 0,
   "metadata": {
    "colab": {},
    "colab_type": "code",
    "id": "gdKWV3Cg8hF4"
   },
   "outputs": [],
   "source": [
    "geo_df = gdp.GeoDataFrame(df.drop(['location.coordinates.0', 'location.coordinates.0'], axis=1),\n",
    "crs={'init': 'epsg:4326'},\n",
    "geometry=[Point(xy) for xy in zip(df['location.coordinates.0'], df['location.coordinates.1'])])   \n"
   ]
  },
  {
   "cell_type": "code",
   "execution_count": 9,
   "metadata": {
    "colab": {
     "base_uri": "https://localhost:8080/",
     "height": 34
    },
    "colab_type": "code",
    "id": "PEoc8qjoDc-i",
    "outputId": "e77f3104-dec4-4a76-cd0e-90e8e3e9a8de"
   },
   "outputs": [
    {
     "name": "stdout",
     "output_type": "stream",
     "text": [
      "(766671, 8)\n"
     ]
    }
   ],
   "source": [
    "print(geo_df.shape)"
   ]
  },
  {
   "cell_type": "code",
   "execution_count": 0,
   "metadata": {
    "colab": {},
    "colab_type": "code",
    "id": "h7mA9vRnAjrV"
   },
   "outputs": [],
   "source": [
    "geo_frame=geo_df[['event_time','mmsi','sog','cog','geometry']]\n"
   ]
  },
  {
   "cell_type": "code",
   "execution_count": 11,
   "metadata": {
    "colab": {
     "base_uri": "https://localhost:8080/",
     "height": 34
    },
    "colab_type": "code",
    "id": "Fpp5YcYnDhsW",
    "outputId": "45b43a99-c94c-4933-b66a-d9299a9ccdea"
   },
   "outputs": [
    {
     "name": "stdout",
     "output_type": "stream",
     "text": [
      "size of dataframe is (766671, 5)\n"
     ]
    }
   ],
   "source": [
    "print('size of dataframe is',geo_frame.shape)"
   ]
  },
  {
   "cell_type": "code",
   "execution_count": 12,
   "metadata": {
    "colab": {
     "base_uri": "https://localhost:8080/",
     "height": 52
    },
    "colab_type": "code",
    "id": "0F_GkGCA70mQ",
    "outputId": "5c1b59f9-91dc-433d-f4b6-75f8e3c744c1"
   },
   "outputs": [
    {
     "name": "stderr",
     "output_type": "stream",
     "text": [
      "/usr/local/lib/python3.6/dist-packages/geopandas/tools/sjoin.py:56: UserWarning: CRS of frames being joined does not match!({'init': 'epsg:4326'} != {})\n",
      "  '(%s != %s)' % (left_df.crs, right_df.crs))\n"
     ]
    }
   ],
   "source": [
    "merged=gdp.sjoin(geo_frame,df2,how='inner',op='intersects')"
   ]
  },
  {
   "cell_type": "code",
   "execution_count": 13,
   "metadata": {
    "colab": {
     "base_uri": "https://localhost:8080/",
     "height": 206
    },
    "colab_type": "code",
    "id": "IwSrzO8X8PxL",
    "outputId": "0ba3c8d1-57ae-4fbc-d918-3ff2901d7027"
   },
   "outputs": [
    {
     "data": {
      "text/html": [
       "<div>\n",
       "<style scoped>\n",
       "    .dataframe tbody tr th:only-of-type {\n",
       "        vertical-align: middle;\n",
       "    }\n",
       "\n",
       "    .dataframe tbody tr th {\n",
       "        vertical-align: top;\n",
       "    }\n",
       "\n",
       "    .dataframe thead th {\n",
       "        text-align: right;\n",
       "    }\n",
       "</style>\n",
       "<table border=\"1\" class=\"dataframe\">\n",
       "  <thead>\n",
       "    <tr style=\"text-align: right;\">\n",
       "      <th></th>\n",
       "      <th>event_time</th>\n",
       "      <th>mmsi</th>\n",
       "      <th>sog</th>\n",
       "      <th>cog</th>\n",
       "      <th>geometry</th>\n",
       "      <th>index_right</th>\n",
       "      <th>field_1</th>\n",
       "      <th>port_name</th>\n",
       "      <th>size</th>\n",
       "    </tr>\n",
       "  </thead>\n",
       "  <tbody>\n",
       "    <tr>\n",
       "      <th>3124</th>\n",
       "      <td>2019-06-28T09:54:52.526Z</td>\n",
       "      <td>316013808</td>\n",
       "      <td>0.1</td>\n",
       "      <td>59.700001</td>\n",
       "      <td>POINT (-63.51242666666667 44.62054166666667)</td>\n",
       "      <td>8</td>\n",
       "      <td>8</td>\n",
       "      <td>auto_port</td>\n",
       "      <td>0.0015</td>\n",
       "    </tr>\n",
       "    <tr>\n",
       "      <th>3125</th>\n",
       "      <td>2019-06-28T09:54:52.526Z</td>\n",
       "      <td>316013808</td>\n",
       "      <td>0.1</td>\n",
       "      <td>59.700001</td>\n",
       "      <td>POINT (-63.51242666666667 44.62054166666667)</td>\n",
       "      <td>8</td>\n",
       "      <td>8</td>\n",
       "      <td>auto_port</td>\n",
       "      <td>0.0015</td>\n",
       "    </tr>\n",
       "    <tr>\n",
       "      <th>3126</th>\n",
       "      <td>2019-05-18T10:18:55.155Z</td>\n",
       "      <td>316013808</td>\n",
       "      <td>0.0</td>\n",
       "      <td>24.299999</td>\n",
       "      <td>POINT (-63.51236166666666 44.62050166666667)</td>\n",
       "      <td>8</td>\n",
       "      <td>8</td>\n",
       "      <td>auto_port</td>\n",
       "      <td>0.0015</td>\n",
       "    </tr>\n",
       "    <tr>\n",
       "      <th>3127</th>\n",
       "      <td>2019-06-28T09:52:13.732Z</td>\n",
       "      <td>316013808</td>\n",
       "      <td>0.3</td>\n",
       "      <td>70.000000</td>\n",
       "      <td>POINT (-63.5124 44.62049666666667)</td>\n",
       "      <td>8</td>\n",
       "      <td>8</td>\n",
       "      <td>auto_port</td>\n",
       "      <td>0.0015</td>\n",
       "    </tr>\n",
       "    <tr>\n",
       "      <th>3128</th>\n",
       "      <td>2019-06-28T09:52:13.732Z</td>\n",
       "      <td>316013808</td>\n",
       "      <td>0.3</td>\n",
       "      <td>70.000000</td>\n",
       "      <td>POINT (-63.5124 44.62049666666667)</td>\n",
       "      <td>8</td>\n",
       "      <td>8</td>\n",
       "      <td>auto_port</td>\n",
       "      <td>0.0015</td>\n",
       "    </tr>\n",
       "  </tbody>\n",
       "</table>\n",
       "</div>"
      ],
      "text/plain": [
       "                    event_time       mmsi  sog  ...  field_1  port_name    size\n",
       "3124  2019-06-28T09:54:52.526Z  316013808  0.1  ...        8  auto_port  0.0015\n",
       "3125  2019-06-28T09:54:52.526Z  316013808  0.1  ...        8  auto_port  0.0015\n",
       "3126  2019-05-18T10:18:55.155Z  316013808  0.0  ...        8  auto_port  0.0015\n",
       "3127  2019-06-28T09:52:13.732Z  316013808  0.3  ...        8  auto_port  0.0015\n",
       "3128  2019-06-28T09:52:13.732Z  316013808  0.3  ...        8  auto_port  0.0015\n",
       "\n",
       "[5 rows x 9 columns]"
      ]
     },
     "execution_count": 13,
     "metadata": {
      "tags": []
     },
     "output_type": "execute_result"
    }
   ],
   "source": [
    "merged.head()"
   ]
  },
  {
   "cell_type": "markdown",
   "metadata": {
    "colab_type": "text",
    "id": "8Dbt816gRRLN"
   },
   "source": [
    "## Answer 1"
   ]
  },
  {
   "cell_type": "code",
   "execution_count": 14,
   "metadata": {
    "colab": {
     "base_uri": "https://localhost:8080/",
     "height": 523
    },
    "colab_type": "code",
    "id": "HjtbiBtKB_E4",
    "outputId": "7e0dc57b-0320-4c72-ba3b-edad2d696a9f"
   },
   "outputs": [
    {
     "data": {
      "text/plain": [
       "<matplotlib.axes._subplots.AxesSubplot at 0x7ff58bd7a2b0>"
      ]
     },
     "execution_count": 14,
     "metadata": {
      "tags": []
     },
     "output_type": "execute_result"
    },
    {
     "data": {
      "text/plain": [
       "<Figure size 504x504 with 0 Axes>"
      ]
     },
     "metadata": {
      "tags": []
     },
     "output_type": "display_data"
    },
    {
     "data": {
      "image/png": "[encoded data removed]",
      "text/plain": [
       "<Figure size 720x720 with 1 Axes>"
      ]
     },
     "metadata": {
      "tags": []
     },
     "output_type": "display_data"
    }
   ],
   "source": [
    "plt.figure(figsize=(7,7))\n",
    "merged['geometry'].plot(edgecolor=\"k\",figsize=(10,10),cmap=\"Blues\")"
   ]
  },
  {
   "cell_type": "markdown",
   "metadata": {
    "colab_type": "text",
    "id": "GiVUKVEcRLub"
   },
   "source": [
    "## Answer 2"
   ]
  },
  {
   "cell_type": "code",
   "execution_count": 0,
   "metadata": {
    "colab": {},
    "colab_type": "code",
    "id": "i-SWCFYHJgcV"
   },
   "outputs": [],
   "source": [
    "count=merged.groupby(['port_name'],as_index=False)['mmsi'].agg('count')\n",
    "count_port = df2[['port_name','geometry']].merge(count,on='port_name')\n"
   ]
  },
  {
   "cell_type": "code",
   "execution_count": 16,
   "metadata": {
    "colab": {
     "base_uri": "https://localhost:8080/",
     "height": 421
    },
    "colab_type": "code",
    "id": "TdELa7o3Dzu8",
    "outputId": "4438cf6d-0d2e-4c25-ebd9-2a22eb8cfd29"
   },
   "outputs": [
    {
     "data": {
      "image/png": "[encoded data removed]",
      "text/plain": [
       "<Figure size 504x504 with 2 Axes>"
      ]
     },
     "metadata": {
      "tags": []
     },
     "output_type": "display_data"
    }
   ],
   "source": [
    "fig,ax=plt.subplots(1,figsize=(7,7))\n",
    "count_port.plot(column='mmsi',scheme=\"QUANTILES\", cmap='BuGn', linewidth=0.8,  edgecolor='0.8',ax=ax)\n",
    "vmin,vmax=0,100\n",
    "sm = plt.cm.ScalarMappable(cmap='BuGn', norm=plt.Normalize(vmin=vmin, vmax=vmax))# empty array for the data range\n",
    "sm._A = []# add the colorbar to the figure\n",
    "cbar = fig.colorbar(sm)\n",
    "\n"
   ]
  },
  {
   "cell_type": "markdown",
   "metadata": {
    "colab_type": "text",
    "id": "_X5c2fwjI5XP"
   },
   "source": [
    "## Answer 4"
   ]
  },
  {
   "cell_type": "code",
   "execution_count": 0,
   "metadata": {
    "colab": {},
    "colab_type": "code",
    "id": "NWy9UqcBKgVM"
   },
   "outputs": [],
   "source": [
    "auto_port=merged[merged['port_name']=='auto_port'][['event_time','geometry']]"
   ]
  },
  {
   "cell_type": "code",
   "execution_count": 0,
   "metadata": {
    "colab": {},
    "colab_type": "code",
    "id": "3csR6yCzB4fy"
   },
   "outputs": [],
   "source": [
    "auto_port['hour']=auto_port['event_time'].apply(lambda x : pd.to_datetime(x).hour)"
   ]
  },
  {
   "cell_type": "code",
   "execution_count": 19,
   "metadata": {
    "colab": {
     "base_uri": "https://localhost:8080/",
     "height": 300
    },
    "colab_type": "code",
    "id": "yIOPSU_IGA8J",
    "outputId": "e3eac5df-f14a-45d4-8f19-0732e385ebdc"
   },
   "outputs": [
    {
     "data": {
      "text/plain": [
       "Text(0, 0.5, 'density')"
      ]
     },
     "execution_count": 19,
     "metadata": {
      "tags": []
     },
     "output_type": "execute_result"
    },
    {
     "data": {
      "image/png": "[encoded data removed]",
      "text/plain": [
       "<Figure size 432x288 with 1 Axes>"
      ]
     },
     "metadata": {
      "tags": []
     },
     "output_type": "display_data"
    }
   ],
   "source": [
    "density=auto_port.groupby('hour',as_index=False).agg('count')\n",
    "plt.plot(density.index,density['event_time'])\n",
    "plt.xlabel('hour of the day')\n",
    "plt.ylabel('density')"
   ]
  },
  {
   "cell_type": "markdown",
   "metadata": {
    "colab_type": "text",
    "id": "kisY0ZpWJaxM"
   },
   "source": [
    "## Answer 5\n",
    "Data can change over time. This can result in poor and degrading predictive performance in predictive models that assume a static relationship between input and output variables.\n",
    "This problem of the changing underlying relationships in the data is called concept drift in the field of machine learning.\n",
    "\n",
    "In the above visualization of auto_port message density,we can observe that the message density has always been chaning throughout each hours.This leads to concept drift.The message density is at it's peak at 10.00. and very low at 14.00"
   ]
  },
  {
   "cell_type": "markdown",
   "metadata": {
    "colab_type": "text",
    "id": "TvXw462f9hcA"
   },
   "source": [
    "## Answer 6"
   ]
  },
  {
   "cell_type": "code",
   "execution_count": 0,
   "metadata": {
    "colab": {},
    "colab_type": "code",
    "id": "muyFfMPQy6i-"
   },
   "outputs": [],
   "source": [
    "X=df[['location.coordinates.0','location.coordinates.1']][:10000]\n"
   ]
  },
  {
   "cell_type": "markdown",
   "metadata": {
    "colab_type": "text",
    "id": "sWj5gl04OwDW"
   },
   "source": [
    "I have considered only 10000 rows due to memory usage issues,you can change it as you need."
   ]
  },
  {
   "cell_type": "code",
   "execution_count": 0,
   "metadata": {
    "colab": {},
    "colab_type": "code",
    "id": "YOveMNFq9q9B"
   },
   "outputs": [],
   "source": [
    "from sklearn.cluster import DBSCAN\n",
    "from sklearn.preprocessing import StandardScaler\n",
    "scaler = StandardScaler()\n",
    "X_scaled = scaler.fit_transform(X)# cluster the data into five clusters\n",
    "dbscan = DBSCAN(eps=0.123, min_samples = 2)\n",
    "clusters = dbscan.fit_predict(X_scaled)# plot the cluster assignments\n"
   ]
  },
  {
   "cell_type": "code",
   "execution_count": 22,
   "metadata": {
    "colab": {
     "base_uri": "https://localhost:8080/",
     "height": 300
    },
    "colab_type": "code",
    "id": "8-EEIk9AOT_L",
    "outputId": "347b545f-563a-4a31-ebf9-c29fa6c64eb4"
   },
   "outputs": [
    {
     "data": {
      "text/plain": [
       "Text(0, 0.5, 'Feature 1')"
      ]
     },
     "execution_count": 22,
     "metadata": {
      "tags": []
     },
     "output_type": "execute_result"
    },
    {
     "data": {
      "image/png": "[encoded data removed]",
      "text/plain": [
       "<Figure size 432x288 with 1 Axes>"
      ]
     },
     "metadata": {
      "tags": []
     },
     "output_type": "display_data"
    }
   ],
   "source": [
    "plt.scatter(X['location.coordinates.0'], X['location.coordinates.1'], c=clusters, cmap=\"plasma\")\n",
    "plt.xlabel(\"Feature 0\")\n",
    "plt.ylabel(\"Feature 1\")"
   ]
  },
  {
   "cell_type": "markdown",
   "metadata": {
    "colab_type": "text",
    "id": "72yE9bHobBhD"
   },
   "source": [
    "## Answer 3"
   ]
  },
  {
   "cell_type": "code",
   "execution_count": 0,
   "metadata": {
    "colab": {},
    "colab_type": "code",
    "id": "JFk9GdarVNmk"
   },
   "outputs": [],
   "source": [
    "df.sort_values(by='event_time',inplace=True)\n",
    "S = pd.to_datetime(df.event_time)[:100]  ##only considering 100 examples\n",
    "for i, g in df.groupby([(S - S[0]).astype('timedelta64[h]')]):\n",
    "        print (g.reset_index(drop=True))\n",
    "        ##plot not done "
   ]
  },
  {
   "cell_type": "markdown",
   "metadata": {
    "colab": {},
    "colab_type": "code",
    "id": "ohTKZ-3OWkfy"
   },
   "source": [
    "### References "
   ]
  },
  {
   "cell_type": "markdown",
   "metadata": {},
   "source": [
    "- http://geopandas.org/\n",
    "- https://stackoverflow.com/\n",
    "- https://towardsdatascience.com/geopandas-101-plot-any-data-with-a-latitude-and-longitude-on-a-map-98e01944b972"
   ]
  },
  {
   "cell_type": "code",
   "execution_count": null,
   "metadata": {},
   "outputs": [],
   "source": []
  }
 ],
 "metadata": {
  "colab": {
   "collapsed_sections": [],
   "machine_shape": "hm",
   "name": "paid.ipynb",
   "provenance": [],
   "version": "0.3.2"
  },
  "kernelspec": {
   "display_name": "Python 3",
   "language": "python",
   "name": "python3"
  },
  "language_info": {
   "codemirror_mode": {
    "name": "ipython",
    "version": 3
   },
   "file_extension": ".py",
   "mimetype": "text/x-python",
   "name": "python",
   "nbconvert_exporter": "python",
   "pygments_lexer": "ipython3",
   "version": "3.7.3"
  }
 },
 "nbformat": 4,
 "nbformat_minor": 1
}
