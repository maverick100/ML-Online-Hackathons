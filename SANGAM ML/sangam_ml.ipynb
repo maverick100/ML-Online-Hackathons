{
  "nbformat": 4,
  "nbformat_minor": 0,
  "metadata": {
    "colab": {
      "name": "sangam ml.ipynb",
      "version": "0.3.2",
      "provenance": [],
      "collapsed_sections": []
    },
    "kernelspec": {
      "name": "python3",
      "display_name": "Python 3"
    }
  },
  "cells": [
    {
      "cell_type": "code",
      "metadata": {
        "id": "af-iepmCP3Gf",
        "colab_type": "code",
        "outputId": "9c47fc59-cefa-4481-f4f3-791abdb789e6",
        "colab": {
          "base_uri": "https://localhost:8080/",
          "height": 104
        }
      },
      "source": [
        "! unzip /content/8f504160af7a11e9.zip"
      ],
      "execution_count": 0,
      "outputs": [
        {
          "output_type": "stream",
          "text": [
            "Archive:  /content/8f504160af7a11e9.zip\n",
            "   creating: DataSets/\n",
            "  inflating: DataSets/Train.csv      \n",
            "  inflating: DataSets/sample_submission.csv  \n",
            "  inflating: DataSets/Test.csv       \n"
          ],
          "name": "stdout"
        }
      ]
    },
    {
      "cell_type": "code",
      "metadata": {
        "id": "3C4evE22QHlL",
        "colab_type": "code",
        "colab": {}
      },
      "source": [
        "import pandas as pd\n",
        "import seaborn as sns\n",
        "import numpy as np\n",
        "import matplotlib.pyplot as plt\n",
        "from sklearn.preprocessing import MinMaxScaler\n",
        "from sklearn.model_selection import train_test_split\n",
        "from xgboost import XGBRegressor ,plot_importance,cv\n",
        "from sklearn.metrics import mean_squared_error,accuracy_score\n",
        "import numpy as np\n",
        "from sklearn.ensemble import RandomForestRegressor\n",
        "from sklearn.preprocessing import LabelEncoder\n",
        "#import xgboost as xgb\n",
        "from warnings import filterwarnings\n",
        "from sklearn.neighbors import KNeighborsRegressor\n",
        "\n",
        "filterwarnings('ignore')"
      ],
      "execution_count": 0,
      "outputs": []
    },
    {
      "cell_type": "code",
      "metadata": {
        "id": "dTyjHDKFQTA7",
        "colab_type": "code",
        "outputId": "fea98a32-209e-4ee6-a007-5b600c835b0d",
        "colab": {
          "base_uri": "https://localhost:8080/",
          "height": 34
        }
      },
      "source": [
        "df= pd.read_csv('DataSets/Train.csv')\n",
        "test=pd.read_csv('DataSets/Test.csv')\n",
        "print('shape of train',df.shape)\n"
      ],
      "execution_count": 0,
      "outputs": [
        {
          "output_type": "stream",
          "text": [
            "shape of train (33750, 15)\n"
          ],
          "name": "stdout"
        }
      ]
    },
    {
      "cell_type": "code",
      "metadata": {
        "id": "i9EgeNmBXkdA",
        "colab_type": "code",
        "outputId": "ed25771f-4a8e-4d0e-ce0e-1a7a04131882",
        "colab": {
          "base_uri": "https://localhost:8080/",
          "height": 34
        }
      },
      "source": [
        "df=df.drop_duplicates(['date_time'])\n",
        "print(df.shape)\n",
        "all_data=df.append(test,sort=False)"
      ],
      "execution_count": 0,
      "outputs": [
        {
          "output_type": "stream",
          "text": [
            "(28589, 15)\n"
          ],
          "name": "stdout"
        }
      ]
    },
    {
      "cell_type": "code",
      "metadata": {
        "id": "NTVEPK12QXw7",
        "colab_type": "code",
        "outputId": "8475d759-02e6-46da-8d55-e733a15b56b5",
        "colab": {
          "base_uri": "https://localhost:8080/",
          "height": 52
        }
      },
      "source": [
        "print(all_data['traffic_volume'].isna().sum())\n",
        "all_data['traffic_volume'].fillna(0,inplace=True)\n",
        "print(all_data['traffic_volume'].isna().sum())\n",
        "\n"
      ],
      "execution_count": 0,
      "outputs": [
        {
          "output_type": "stream",
          "text": [
            "14454\n",
            "0\n"
          ],
          "name": "stdout"
        }
      ]
    },
    {
      "cell_type": "code",
      "metadata": {
        "id": "YU4nvEjq1cK6",
        "colab_type": "code",
        "outputId": "335b5a76-325d-4219-d79e-3db3666a1a8e",
        "colab": {
          "base_uri": "https://localhost:8080/",
          "height": 173
        }
      },
      "source": [
        "test['visibility_in_miles'].describe()"
      ],
      "execution_count": 0,
      "outputs": [
        {
          "output_type": "execute_result",
          "data": {
            "text/plain": [
              "count    14454.000000\n",
              "mean         5.005535\n",
              "std          2.586276\n",
              "min          1.000000\n",
              "25%          3.000000\n",
              "50%          5.000000\n",
              "75%          7.000000\n",
              "max          9.000000\n",
              "Name: visibility_in_miles, dtype: float64"
            ]
          },
          "metadata": {
            "tags": []
          },
          "execution_count": 74
        }
      ]
    },
    {
      "cell_type": "code",
      "metadata": {
        "id": "-LYtb_ERQZax",
        "colab_type": "code",
        "outputId": "1dc05d91-5ab7-4cf7-baec-79539fe80ea9",
        "colab": {
          "base_uri": "https://localhost:8080/",
          "height": 295
        }
      },
      "source": [
        "df.isna().sum()"
      ],
      "execution_count": 0,
      "outputs": [
        {
          "output_type": "execute_result",
          "data": {
            "text/plain": [
              "date_time              0\n",
              "is_holiday             0\n",
              "air_pollution_index    0\n",
              "humidity               0\n",
              "wind_speed             0\n",
              "wind_direction         0\n",
              "visibility_in_miles    0\n",
              "dew_point              0\n",
              "temperature            0\n",
              "rain_p_h               0\n",
              "snow_p_h               0\n",
              "clouds_all             0\n",
              "weather_type           0\n",
              "weather_description    0\n",
              "traffic_volume         0\n",
              "dtype: int64"
            ]
          },
          "metadata": {
            "tags": []
          },
          "execution_count": 19
        }
      ]
    },
    {
      "cell_type": "code",
      "metadata": {
        "id": "OOitSkqQQ1Gx",
        "colab_type": "code",
        "outputId": "21af8ea2-0aa3-45e0-cddb-139fca29db78",
        "colab": {
          "base_uri": "https://localhost:8080/",
          "height": 301
        }
      },
      "source": [
        "sns.distplot(df['traffic_volume'])"
      ],
      "execution_count": 0,
      "outputs": [
        {
          "output_type": "execute_result",
          "data": {
            "text/plain": [
              "<matplotlib.axes._subplots.AxesSubplot at 0x7f0d4e2f2668>"
            ]
          },
          "metadata": {
            "tags": []
          },
          "execution_count": 20
        },
        {
          "output_type": "display_data",
          "data": {
            "image/png": "[encoded data removed]",
            "text/plain": [
              "<Figure size 432x288 with 1 Axes>"
            ]
          },
          "metadata": {
            "tags": []
          }
        }
      ]
    },
    {
      "cell_type": "code",
      "metadata": {
        "id": "yKv7KJQJRCJG",
        "colab_type": "code",
        "outputId": "515c3eeb-c0a9-45b9-8dd9-4a16a0a3464f",
        "colab": {
          "base_uri": "https://localhost:8080/",
          "height": 364
        }
      },
      "source": [
        "df.info()"
      ],
      "execution_count": 0,
      "outputs": [
        {
          "output_type": "stream",
          "text": [
            "<class 'pandas.core.frame.DataFrame'>\n",
            "RangeIndex: 33750 entries, 0 to 33749\n",
            "Data columns (total 15 columns):\n",
            "date_time              33750 non-null object\n",
            "is_holiday             33750 non-null object\n",
            "air_pollution_index    33750 non-null int64\n",
            "humidity               33750 non-null int64\n",
            "wind_speed             33750 non-null int64\n",
            "wind_direction         33750 non-null int64\n",
            "visibility_in_miles    33750 non-null int64\n",
            "dew_point              33750 non-null int64\n",
            "temperature            33750 non-null float64\n",
            "rain_p_h               33750 non-null float64\n",
            "snow_p_h               33750 non-null float64\n",
            "clouds_all             33750 non-null int64\n",
            "weather_type           33750 non-null object\n",
            "weather_description    33750 non-null object\n",
            "traffic_volume         33750 non-null int64\n",
            "dtypes: float64(3), int64(8), object(4)\n",
            "memory usage: 3.9+ MB\n"
          ],
          "name": "stdout"
        }
      ]
    },
    {
      "cell_type": "code",
      "metadata": {
        "id": "MGquVfmjtxqZ",
        "colab_type": "code",
        "colab": {}
      },
      "source": [
        ""
      ],
      "execution_count": 0,
      "outputs": []
    },
    {
      "cell_type": "code",
      "metadata": {
        "id": "LfLogl9XV9ep",
        "colab_type": "code",
        "outputId": "c8358c24-150a-4abb-f79b-4d3db4a6d303",
        "colab": {
          "base_uri": "https://localhost:8080/",
          "height": 371
        }
      },
      "source": [
        "\n",
        "sns.heatmap(df.corr(),linewidths=.2)"
      ],
      "execution_count": 0,
      "outputs": [
        {
          "output_type": "execute_result",
          "data": {
            "text/plain": [
              "<matplotlib.axes._subplots.AxesSubplot at 0x7f0d4ce0c198>"
            ]
          },
          "metadata": {
            "tags": []
          },
          "execution_count": 22
        },
        {
          "output_type": "display_data",
          "data": {
            "image/png": "[encoded data removed]",
            "text/plain": [
              "<Figure size 432x288 with 2 Axes>"
            ]
          },
          "metadata": {
            "tags": []
          }
        }
      ]
    },
    {
      "cell_type": "code",
      "metadata": {
        "id": "Dl309woyXl27",
        "colab_type": "code",
        "colab": {}
      },
      "source": [
        "def feature_engineering(df,label):\n",
        "  \n",
        "  \n",
        "    ## date_time\n",
        "    df['date_time']=pd.to_datetime(df['date_time'])\n",
        "\n",
        "\n",
        "    df['year']=df['date_time'].dt.year\n",
        "    df['month']=df['date_time'].dt.month\n",
        "    df['day_of_month']=df['date_time'].dt.day\n",
        "    df['week_day']=df['date_time'].dt.weekday\n",
        "    df['hour']=df['date_time'].dt.hour\n",
        "    df.drop(['date_time','air_pollution_index','humidity','wind_speed','dew_point',\n",
        "            'weather_description','clouds_all'],inplace=True,axis=1)\n",
        "    \n",
        "    df['morning'] = df['hour'].apply(lambda x : 1 if 6 <= x < 12 else 0 )\n",
        "    df['eveng'] =   df['hour'].apply(lambda x : 1 if 12 <= x < 18 else 0 )\n",
        "    df['night'] = df['hour'].apply(lambda x : 1 if 18 <= x < 24 else 0 )\n",
        "    df['e_morning'] = df['night'] = df['hour'].apply(lambda x : 1 if 24 <= x < 6 else 0 )\n",
        "\n",
        "    #df['visibile'] = df['visibility_in_miles'] / df['hour']\n",
        "    df['ph'] = df['rain_p_h'] + df['snow_p_h']\n",
        "    \n",
        "    #df['total'] = df['air_pollution_index'] + df['humidity'] + df['wind_speed'] + df['dew_point']\n",
        "    \n",
        "    \n",
        "\n",
        "    lb = LabelEncoder()\n",
        "    #df['weather_description'] = lb.fit_transform(df['weather_description'])\n",
        "    df['is_holiday'] = lb.fit_transform(df['is_holiday'])\n",
        "    \n",
        "    y=df['traffic_volume']\n",
        "    df.drop(['traffic_volume'],inplace=True,axis=1)\n",
        "    \n",
        "    df=pd.get_dummies(df)\n",
        "    features=(df.columns)\n",
        "    \n",
        "    #scaler=MinMaxScaler()\n",
        "    #df=scaler.fit_transform(df)\n",
        "    \n",
        "    \n",
        "    return df,y,features\n",
        "    \n",
        "  \n",
        "  \n",
        "\n",
        "  \n",
        "  \n",
        "  \n",
        "  \n",
        "  \n",
        "  \n",
        "  \n",
        "  \n",
        "  \n",
        "  \n",
        "  \n",
        "  \n",
        "  \n",
        "  \n",
        "  \n",
        "  \n",
        "  "
      ],
      "execution_count": 0,
      "outputs": []
    },
    {
      "cell_type": "code",
      "metadata": {
        "id": "UOZDeZompvsv",
        "colab_type": "code",
        "colab": {}
      },
      "source": [
        "\n",
        "all_data,y,features=feature_engineering(all_data,'train')\n",
        "train=all_data[:df.shape[0]]\n",
        "y=y[:df.shape[0]]\n",
        "test=all_data[df.shape[0]:]\n"
      ],
      "execution_count": 0,
      "outputs": []
    },
    {
      "cell_type": "code",
      "metadata": {
        "id": "SdwDhI9XuWDV",
        "colab_type": "code",
        "outputId": "9feb4a91-8ce9-4075-87ea-8057fe932d79",
        "colab": {
          "base_uri": "https://localhost:8080/",
          "height": 34
        }
      },
      "source": [
        "len(test)"
      ],
      "execution_count": 0,
      "outputs": [
        {
          "output_type": "execute_result",
          "data": {
            "text/plain": [
              "14454"
            ]
          },
          "metadata": {
            "tags": []
          },
          "execution_count": 63
        }
      ]
    },
    {
      "cell_type": "code",
      "metadata": {
        "id": "lUvmQAhDfAth",
        "colab_type": "code",
        "colab": {}
      },
      "source": [
        "def rmse(y_test,y_pre):\n",
        "  score=np.sqrt(mean_squared_error(y_test,y_pre))\n",
        "  return  score "
      ],
      "execution_count": 0,
      "outputs": []
    },
    {
      "cell_type": "code",
      "metadata": {
        "id": "eAFdxb_rdAo_",
        "colab_type": "code",
        "colab": {}
      },
      "source": [
        "X_train,X_test,y_train,y_test = train_test_split(train,y,test_size=.15,random_state=42)\n"
      ],
      "execution_count": 0,
      "outputs": []
    },
    {
      "cell_type": "code",
      "metadata": {
        "id": "3dRXBPZUe-CY",
        "colab_type": "code",
        "colab": {}
      },
      "source": [
        "xgb=XGBRegressor(max_depth=20,n_estimators=400,leaning_rate=.2,gamma=.2,colsample_bylevel=.8)\n"
      ],
      "execution_count": 0,
      "outputs": []
    },
    {
      "cell_type": "code",
      "metadata": {
        "id": "6B-BWTeJY1JK",
        "colab_type": "code",
        "outputId": "4f4e44a4-fccd-495e-cfb6-73200f26c16d",
        "colab": {
          "base_uri": "https://localhost:8080/",
          "height": 54
        }
      },
      "source": [
        "xgb.fit(train,y)\n",
        "y_pre=xgb.predict(train)\n"
      ],
      "execution_count": 0,
      "outputs": [
        {
          "output_type": "stream",
          "text": [
            "[06:39:52] WARNING: /workspace/src/objective/regression_obj.cu:152: reg:linear is now deprecated in favor of reg:squarederror.\n"
          ],
          "name": "stdout"
        }
      ]
    },
    {
      "cell_type": "code",
      "metadata": {
        "id": "Dvq3yPI2iRGw",
        "colab_type": "code",
        "colab": {}
      },
      "source": [
        "train.drop(['visibile'],inplace=True,axis=1)"
      ],
      "execution_count": 0,
      "outputs": []
    },
    {
      "cell_type": "code",
      "metadata": {
        "id": "KaTc8RYUiQqh",
        "colab_type": "code",
        "outputId": "e478f1b6-ed65-4db1-94ee-9bb3fa215110",
        "colab": {
          "base_uri": "https://localhost:8080/",
          "height": 34
        }
      },
      "source": [
        "print(rmse(y,y_pre))"
      ],
      "execution_count": 0,
      "outputs": [
        {
          "output_type": "stream",
          "text": [
            "0.18311611907205408\n"
          ],
          "name": "stdout"
        }
      ]
    },
    {
      "cell_type": "code",
      "metadata": {
        "id": "dsMhCgusW0w1",
        "colab_type": "code",
        "outputId": "2fd8e038-1c60-4783-e306-9d83b19fc90a",
        "colab": {
          "base_uri": "https://localhost:8080/",
          "height": 106
        }
      },
      "source": [
        "from sklearn.model_selection import KFold \n",
        "\n",
        "\n",
        "kf = KFold(n_splits=3, random_state=None) \n",
        "vals=[]\n",
        "for train_index, test_index in kf.split(train):\n",
        "  \n",
        "      #print(\"Train:\", train_index, \"Validation:\",test_index)\n",
        "      X_train, X_test = train.iloc[train_index], train.iloc[test_index] \n",
        "      y_train, y_test = y[train_index], y[test_index]\n",
        "      xgb.fit(X_train,y_train)\n",
        "      x=(rmse(xgb.predict(X_test),y_test))\n",
        "      vals.append(x)\n",
        "\n",
        "np.mean(vals)\n",
        "      \n",
        "      "
      ],
      "execution_count": 0,
      "outputs": [
        {
          "output_type": "stream",
          "text": [
            "[02:48:24] WARNING: /workspace/src/objective/regression_obj.cu:152: reg:linear is now deprecated in favor of reg:squarederror.\n",
            "[02:49:12] WARNING: /workspace/src/objective/regression_obj.cu:152: reg:linear is now deprecated in favor of reg:squarederror.\n",
            "[02:49:58] WARNING: /workspace/src/objective/regression_obj.cu:152: reg:linear is now deprecated in favor of reg:squarederror.\n"
          ],
          "name": "stdout"
        },
        {
          "output_type": "execute_result",
          "data": {
            "text/plain": [
              "534.9419841767101"
            ]
          },
          "metadata": {
            "tags": []
          },
          "execution_count": 44
        }
      ]
    },
    {
      "cell_type": "code",
      "metadata": {
        "id": "XsSMHxtvd5Cg",
        "colab_type": "code",
        "outputId": "1d067932-dc45-4407-96d5-2c56d66faa43",
        "colab": {
          "base_uri": "https://localhost:8080/",
          "height": 52
        }
      },
      "source": [
        "print('train rmse',rmse(xgb.predict(X_train),y_train))\n",
        "y_pre=xgb.predict(X_test)\n",
        "y_pre=[max(0,x) for x in y_pre]\n",
        "print(rmse(y_test,y_pre))\n",
        "#print('test rmse',rmse(y_scaler.inverse_transform(np.array(y_test).reshape(-1,1)),y_scaler.inverse_transform(np.array(y_pre).reshape(-1,1))))\n"
      ],
      "execution_count": 0,
      "outputs": [
        {
          "output_type": "stream",
          "text": [
            "train rmse 272.6310581177716\n",
            "360.2113566822\n"
          ],
          "name": "stdout"
        }
      ]
    },
    {
      "cell_type": "code",
      "metadata": {
        "id": "km4LwjgTgXeu",
        "colab_type": "code",
        "outputId": "453e54bc-a176-4a4e-ede5-d05ed67b6957",
        "colab": {
          "base_uri": "https://localhost:8080/",
          "height": 34
        }
      },
      "source": [
        "\n",
        "print('train rmse',rmse(rf.predict(train),y))\n",
        "#y_pre=rf.predict(X_test)\n",
        "#y_pre=[max(0,x) for x in y_pre]\n",
        "#print('test rmse',rmse(y_test,y_pre))"
      ],
      "execution_count": 0,
      "outputs": [
        {
          "output_type": "stream",
          "text": [
            "train rmse 196.66896011401624\n"
          ],
          "name": "stdout"
        }
      ]
    },
    {
      "cell_type": "code",
      "metadata": {
        "id": "IfWZ20t4gjVQ",
        "colab_type": "code",
        "outputId": "87e9d6fd-68a8-41aa-b261-9c7c6b3e9777",
        "colab": {
          "base_uri": "https://localhost:8080/",
          "height": 301
        }
      },
      "source": [
        "sns.distplot(y_train)"
      ],
      "execution_count": 0,
      "outputs": [
        {
          "output_type": "execute_result",
          "data": {
            "text/plain": [
              "<matplotlib.axes._subplots.AxesSubplot at 0x7fbacdfbb4e0>"
            ]
          },
          "metadata": {
            "tags": []
          },
          "execution_count": 141
        },
        {
          "output_type": "display_data",
          "data": {
            "image/png": "[encoded data removed]",
            "text/plain": [
              "<Figure size 432x288 with 1 Axes>"
            ]
          },
          "metadata": {
            "tags": []
          }
        }
      ]
    },
    {
      "cell_type": "code",
      "metadata": {
        "id": "Ox3XZoFv4D-p",
        "colab_type": "code",
        "outputId": "5e204891-4c7d-494d-a6d5-0ab1fea2953a",
        "colab": {
          "base_uri": "https://localhost:8080/",
          "height": 286
        }
      },
      "source": [
        "plt.scatter(train['hour'],y)\n",
        "plt.scatter(test['hour'],pred)\n"
      ],
      "execution_count": 0,
      "outputs": [
        {
          "output_type": "execute_result",
          "data": {
            "text/plain": [
              "<matplotlib.collections.PathCollection at 0x7fbacdac2cc0>"
            ]
          },
          "metadata": {
            "tags": []
          },
          "execution_count": 154
        },
        {
          "output_type": "display_data",
          "data": {
            "image/png": "[encoded data removed]",
            "text/plain": [
              "<Figure size 432x288 with 1 Axes>"
            ]
          },
          "metadata": {
            "tags": []
          }
        }
      ]
    },
    {
      "cell_type": "code",
      "metadata": {
        "id": "E5_FMDWui7mn",
        "colab_type": "code",
        "colab": {}
      },
      "source": [
        "\n",
        "#test = feature_engineering(test,'test')\n",
        "\n",
        "pred=xgb.predict(test)\n",
        "pred=[max(0,x) for x in pred]\n"
      ],
      "execution_count": 0,
      "outputs": []
    },
    {
      "cell_type": "code",
      "metadata": {
        "id": "Mx0VyYldZ9bi",
        "colab_type": "code",
        "colab": {}
      },
      "source": [
        "pred= [round(x) for x in pred]"
      ],
      "execution_count": 0,
      "outputs": []
    },
    {
      "cell_type": "code",
      "metadata": {
        "id": "bGgL9aT1mLyy",
        "colab_type": "code",
        "colab": {}
      },
      "source": [
        "submissions=pd.read_csv('DataSets/sample_submission.csv')\n",
        "test_time=pd.read_csv('DataSets/Test.csv')['date_time']\n",
        "sub = pd.DataFrame({'date_time':test_time,'traffic_volume':pred})\n",
        "\n",
        "\n"
      ],
      "execution_count": 0,
      "outputs": []
    },
    {
      "cell_type": "code",
      "metadata": {
        "id": "1U_VZSHYmkWU",
        "colab_type": "code",
        "outputId": "cfdff69f-2330-465d-afc1-0717a6cffed9",
        "colab": {
          "base_uri": "https://localhost:8080/",
          "height": 206
        }
      },
      "source": [
        "sub.head()"
      ],
      "execution_count": 0,
      "outputs": [
        {
          "output_type": "execute_result",
          "data": {
            "text/html": [
              "<div>\n",
              "<style scoped>\n",
              "    .dataframe tbody tr th:only-of-type {\n",
              "        vertical-align: middle;\n",
              "    }\n",
              "\n",
              "    .dataframe tbody tr th {\n",
              "        vertical-align: top;\n",
              "    }\n",
              "\n",
              "    .dataframe thead th {\n",
              "        text-align: right;\n",
              "    }\n",
              "</style>\n",
              "<table border=\"1\" class=\"dataframe\">\n",
              "  <thead>\n",
              "    <tr style=\"text-align: right;\">\n",
              "      <th></th>\n",
              "      <th>date_time</th>\n",
              "      <th>traffic_volume</th>\n",
              "    </tr>\n",
              "  </thead>\n",
              "  <tbody>\n",
              "    <tr>\n",
              "      <th>0</th>\n",
              "      <td>2017-05-18 00:00:00</td>\n",
              "      <td>719.837830</td>\n",
              "    </tr>\n",
              "    <tr>\n",
              "      <th>1</th>\n",
              "      <td>2017-05-18 00:00:00</td>\n",
              "      <td>885.540222</td>\n",
              "    </tr>\n",
              "    <tr>\n",
              "      <th>2</th>\n",
              "      <td>2017-05-18 00:00:00</td>\n",
              "      <td>578.294556</td>\n",
              "    </tr>\n",
              "    <tr>\n",
              "      <th>3</th>\n",
              "      <td>2017-05-18 01:00:00</td>\n",
              "      <td>392.693115</td>\n",
              "    </tr>\n",
              "    <tr>\n",
              "      <th>4</th>\n",
              "      <td>2017-05-18 01:00:00</td>\n",
              "      <td>411.660065</td>\n",
              "    </tr>\n",
              "  </tbody>\n",
              "</table>\n",
              "</div>"
            ],
            "text/plain": [
              "             date_time  traffic_volume\n",
              "0  2017-05-18 00:00:00      719.837830\n",
              "1  2017-05-18 00:00:00      885.540222\n",
              "2  2017-05-18 00:00:00      578.294556\n",
              "3  2017-05-18 01:00:00      392.693115\n",
              "4  2017-05-18 01:00:00      411.660065"
            ]
          },
          "metadata": {
            "tags": []
          },
          "execution_count": 71
        }
      ]
    },
    {
      "cell_type": "code",
      "metadata": {
        "id": "RzviKX4Gn9IV",
        "colab_type": "code",
        "colab": {}
      },
      "source": [
        "\n",
        "sub.to_csv('prediction_over1.csv',index=False)"
      ],
      "execution_count": 0,
      "outputs": []
    },
    {
      "cell_type": "code",
      "metadata": {
        "id": "2TadX2fXq2JG",
        "colab_type": "code",
        "outputId": "d02e2e96-7cfc-4ff8-80b6-2ed7507b6d9d",
        "colab": {
          "base_uri": "https://localhost:8080/",
          "height": 300
        }
      },
      "source": [
        "sub.describe()"
      ],
      "execution_count": 0,
      "outputs": [
        {
          "output_type": "execute_result",
          "data": {
            "text/html": [
              "<div>\n",
              "<style scoped>\n",
              "    .dataframe tbody tr th:only-of-type {\n",
              "        vertical-align: middle;\n",
              "    }\n",
              "\n",
              "    .dataframe tbody tr th {\n",
              "        vertical-align: top;\n",
              "    }\n",
              "\n",
              "    .dataframe thead th {\n",
              "        text-align: right;\n",
              "    }\n",
              "</style>\n",
              "<table border=\"1\" class=\"dataframe\">\n",
              "  <thead>\n",
              "    <tr style=\"text-align: right;\">\n",
              "      <th></th>\n",
              "      <th>traffic_volume</th>\n",
              "    </tr>\n",
              "  </thead>\n",
              "  <tbody>\n",
              "    <tr>\n",
              "      <th>count</th>\n",
              "      <td>14454.000000</td>\n",
              "    </tr>\n",
              "    <tr>\n",
              "      <th>mean</th>\n",
              "      <td>3227.126954</td>\n",
              "    </tr>\n",
              "    <tr>\n",
              "      <th>std</th>\n",
              "      <td>1870.498332</td>\n",
              "    </tr>\n",
              "    <tr>\n",
              "      <th>min</th>\n",
              "      <td>95.000000</td>\n",
              "    </tr>\n",
              "    <tr>\n",
              "      <th>25%</th>\n",
              "      <td>1326.000000</td>\n",
              "    </tr>\n",
              "    <tr>\n",
              "      <th>50%</th>\n",
              "      <td>3463.500000</td>\n",
              "    </tr>\n",
              "    <tr>\n",
              "      <th>75%</th>\n",
              "      <td>4758.750000</td>\n",
              "    </tr>\n",
              "    <tr>\n",
              "      <th>max</th>\n",
              "      <td>6907.000000</td>\n",
              "    </tr>\n",
              "  </tbody>\n",
              "</table>\n",
              "</div>"
            ],
            "text/plain": [
              "       traffic_volume\n",
              "count    14454.000000\n",
              "mean      3227.126954\n",
              "std       1870.498332\n",
              "min         95.000000\n",
              "25%       1326.000000\n",
              "50%       3463.500000\n",
              "75%       4758.750000\n",
              "max       6907.000000"
            ]
          },
          "metadata": {
            "tags": []
          },
          "execution_count": 58
        }
      ]
    },
    {
      "cell_type": "code",
      "metadata": {
        "id": "en0pv_bQynC-",
        "colab_type": "code",
        "outputId": "67af9ec9-7961-4761-dff8-078bb019435d",
        "colab": {
          "base_uri": "https://localhost:8080/",
          "height": 201
        }
      },
      "source": [
        "feat_imp = pd.Series(xgb.booster().get_fscore).sort_values(ascending=False)\n",
        "feat_imp.plot(kind='bar', title='Feature Importances')\n",
        "plt.ylabel('Feature Importance Score')"
      ],
      "execution_count": 0,
      "outputs": [
        {
          "output_type": "error",
          "ename": "TypeError",
          "evalue": "ignored",
          "traceback": [
            "\u001b[0;31m---------------------------------------------------------------------------\u001b[0m",
            "\u001b[0;31mTypeError\u001b[0m                                 Traceback (most recent call last)",
            "\u001b[0;32m<ipython-input-63-776ea70761aa>\u001b[0m in \u001b[0;36m<module>\u001b[0;34m()\u001b[0m\n\u001b[0;32m----> 1\u001b[0;31m \u001b[0mfeat_imp\u001b[0m \u001b[0;34m=\u001b[0m \u001b[0mpd\u001b[0m\u001b[0;34m.\u001b[0m\u001b[0mSeries\u001b[0m\u001b[0;34m(\u001b[0m\u001b[0mxgb\u001b[0m\u001b[0;34m.\u001b[0m\u001b[0mbooster\u001b[0m\u001b[0;34m(\u001b[0m\u001b[0;34m)\u001b[0m\u001b[0;34m.\u001b[0m\u001b[0mget_fscore\u001b[0m\u001b[0;34m)\u001b[0m\u001b[0;34m.\u001b[0m\u001b[0msort_values\u001b[0m\u001b[0;34m(\u001b[0m\u001b[0mascending\u001b[0m\u001b[0;34m=\u001b[0m\u001b[0;32mFalse\u001b[0m\u001b[0;34m)\u001b[0m\u001b[0;34m\u001b[0m\u001b[0;34m\u001b[0m\u001b[0m\n\u001b[0m\u001b[1;32m      2\u001b[0m \u001b[0mfeat_imp\u001b[0m\u001b[0;34m.\u001b[0m\u001b[0mplot\u001b[0m\u001b[0;34m(\u001b[0m\u001b[0mkind\u001b[0m\u001b[0;34m=\u001b[0m\u001b[0;34m'bar'\u001b[0m\u001b[0;34m,\u001b[0m \u001b[0mtitle\u001b[0m\u001b[0;34m=\u001b[0m\u001b[0;34m'Feature Importances'\u001b[0m\u001b[0;34m)\u001b[0m\u001b[0;34m\u001b[0m\u001b[0;34m\u001b[0m\u001b[0m\n\u001b[1;32m      3\u001b[0m \u001b[0mplt\u001b[0m\u001b[0;34m.\u001b[0m\u001b[0mylabel\u001b[0m\u001b[0;34m(\u001b[0m\u001b[0;34m'Feature Importance Score'\u001b[0m\u001b[0;34m)\u001b[0m\u001b[0;34m\u001b[0m\u001b[0;34m\u001b[0m\u001b[0m\n",
            "\u001b[0;31mTypeError\u001b[0m: 'str' object is not callable"
          ]
        }
      ]
    },
    {
      "cell_type": "code",
      "metadata": {
        "id": "7PnQFjpJSs99",
        "colab_type": "code",
        "outputId": "e0843a5e-62d7-4946-d913-cf5eeeb00f1c",
        "colab": {
          "base_uri": "https://localhost:8080/",
          "height": 612
        }
      },
      "source": [
        "x=xgb.feature_importances_\n",
        "plt.figure(figsize=(10,10))\n",
        "sns.barplot(x=x,y=features)\n",
        "#plt.xlabel(features,rotation = '90')\n"
      ],
      "execution_count": 0,
      "outputs": [
        {
          "output_type": "execute_result",
          "data": {
            "text/plain": [
              "<matplotlib.axes._subplots.AxesSubplot at 0x7f517c887908>"
            ]
          },
          "metadata": {
            "tags": []
          },
          "execution_count": 67
        },
        {
          "output_type": "display_data",
          "data": {
            "image/png": "[encoded data removed]",
            "text/plain": [
              "<Figure size 720x720 with 1 Axes>"
            ]
          },
          "metadata": {
            "tags": []
          }
        }
      ]
    },
    {
      "cell_type": "code",
      "metadata": {
        "id": "d9RXXiuWvi5j",
        "colab_type": "code",
        "outputId": "a754fa6d-60da-416a-f357-26951f57b5b3",
        "colab": {
          "base_uri": "https://localhost:8080/",
          "height": 34
        }
      },
      "source": [
        "len(features[:-1]),len(x)"
      ],
      "execution_count": 0,
      "outputs": [
        {
          "output_type": "execute_result",
          "data": {
            "text/plain": [
              "(40, 40)"
            ]
          },
          "metadata": {
            "tags": []
          },
          "execution_count": 35
        }
      ]
    },
    {
      "cell_type": "code",
      "metadata": {
        "id": "mN2Z_g9Dy0Tk",
        "colab_type": "code",
        "colab": {}
      },
      "source": [
        ""
      ],
      "execution_count": 0,
      "outputs": []
    }
  ]
}